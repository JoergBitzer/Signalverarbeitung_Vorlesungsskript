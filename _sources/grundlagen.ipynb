{
 "cells": [
  {
   "cell_type": "markdown",
   "id": "46c2e694",
   "metadata": {},
   "source": [
    "---\n",
    "# Einführung\n",
    "\n",
    "Ziel dieses Skriptes ist es, die Grundlagen der digitalen Signalverarbeitung (DSV) mit der dazugehörigen Beschreibung durch die Systemtheorie zu erläutern. \n",
    "\n",
    "{numref}`Kapitel %s  <sec:signale>` definiert den Begriff des Signals. Neben \n",
    "Eigenschaften und verschiedenen Kategorien zur Klassifikation von Signalen, werden mathematischen Beschreibungen und Methoden zur Erzeugung von Signalen behandelt.  \n",
    "\n",
    "Die in {numref}`Kapitel %s  <sec:signale>` eingeführten Signale durchlaufen üblicherweise Übertragungsstrecken. Diese Systeme, deren Definition und Beschreibung,sind Gegenstand von {numref}`Kapitel %s  <sec:systeme>`.\n",
    "\n",
    "\n",
    "In {numref}`Kapitel %s  <sec:ztrafo>` werden mit der z-Transformation und dem Pol-Nullstellen-Diagramm nützliche Werkzeuge zur Darstellung und Analyse von Systemen beschrieben.   \n",
    "\n",
    "\n",
    "{numref}`Kapitel %s  <sec:spektren>` erweitert die bisherige Darstellung von Signalen im Zeitbereich in den Frequenzbereich hinein. Es werden Verfahren zur Berechung dieser Spektren und die Eigenschaften verschiedener Zeitsignale im Frequenzbereich vorgestellt. \n",
    "\n",
    "\n",
    "Filter erlauben das gezielte manipulieren von Signalen. Entsprechende Systeme werden in {numref}`Kapitel %s  <sec:filter>` vorgestellt. Neben den Eigenschaften verschiedener Filtertypen wird auch auf das Vorgehen beim Filterdesign eingegangen.\n",
    "\n",
    "\n",
    "```{bibliography}\n",
    ":filter: docname in docnames\n",
    "```"
   ]
  }
 ],
 "metadata": {
  "jupytext": {
   "text_representation": {
    "extension": ".md",
    "format_name": "myst",
    "format_version": 0.13,
    "jupytext_version": "1.11.5"
   }
  },
  "kernelspec": {
   "display_name": "Python 3",
   "language": "python",
   "name": "python3"
  },
  "language_info": {
   "codemirror_mode": {
    "name": "ipython",
    "version": 3
   },
   "file_extension": ".py",
   "mimetype": "text/x-python",
   "name": "python",
   "nbconvert_exporter": "python",
   "pygments_lexer": "ipython3",
   "version": "3.10.6"
  },
  "source_map": [
   12
  ]
 },
 "nbformat": 4,
 "nbformat_minor": 5
}